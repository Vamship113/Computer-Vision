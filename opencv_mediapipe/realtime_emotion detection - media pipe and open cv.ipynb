{
 "cells": [
  {
   "cell_type": "code",
   "execution_count": 18,
   "id": "1443337b-9da8-4453-ad45-db872b8521d7",
   "metadata": {},
   "outputs": [],
   "source": [
    "import cv2\n",
    "import numpy as np\n",
    "import mediapipe as mp\n",
    "from mediapipe.tasks import python\n",
    "from mediapipe.tasks.python import vision"
   ]
  },
  {
   "cell_type": "markdown",
   "id": "ea73326e-11fa-421e-b5c3-2f5329a80cac",
   "metadata": {},
   "source": [
    "Object detection using efficientnet_lite0 which "
   ]
  },
  {
   "cell_type": "code",
   "execution_count": 22,
   "id": "f1b4582a-2ae2-435d-a3fb-1b9cb96d9b56",
   "metadata": {},
   "outputs": [
    {
     "name": "stdout",
     "output_type": "stream",
     "text": [
      "Press 'q' to exit.\n"
     ]
    }
   ],
   "source": [
    "MODEL_PATH = 'efficientdet_lite0.tflite'  \n",
    "\n",
    "# visulisation function source https://github.com/google-ai-edge/mediapipe-samples/blob/main/examples/object_detection/python/object_detector.ipynb\n",
    "MARGIN = 10\n",
    "ROW_SIZE = 10\n",
    "FONT_SIZE = 1\n",
    "FONT_THICKNESS = 1\n",
    "TEXT_COLOR = (0, 255, 0)  # Green\n",
    "\n",
    "def visualize(image, detection_result):\n",
    "    for detection in detection_result.detections:\n",
    "        bbox = detection.bounding_box\n",
    "        start_point = int(bbox.origin_x), int(bbox.origin_y)\n",
    "        end_point = int(bbox.origin_x + bbox.width), int(bbox.origin_y + bbox.height)\n",
    "        cv2.rectangle(image, start_point, end_point, TEXT_COLOR, 2)\n",
    "        \n",
    "        category = detection.categories[0]\n",
    "        category_name = category.category_name\n",
    "        probability = round(category.score, 2)\n",
    "        result_text = f'{category_name} ({probability})'\n",
    "        text_location = (start_point[0], start_point[1] - 10)\n",
    "        cv2.putText(image, result_text, text_location, cv2.FONT_HERSHEY_SIMPLEX,\n",
    "                    FONT_SIZE, TEXT_COLOR, FONT_THICKNESS)\n",
    "    return image\n",
    "\n",
    "# === Initialize MediaPipe Object Detector ===\n",
    "base_options = python.BaseOptions(model_asset_path=MODEL_PATH)\n",
    "options = vision.ObjectDetectorOptions(\n",
    "    base_options=base_options,\n",
    "    score_threshold=0.5\n",
    ")\n",
    "detector = vision.ObjectDetector.create_from_options(options)\n",
    "\n",
    "# === Start Video Stream ===\n",
    "cap = cv2.VideoCapture(0)\n",
    "if not cap.isOpened():\n",
    "    print(\"Error: Could not open webcam.\")\n",
    "    exit()\n",
    "\n",
    "print(\"Press 'q' to exit.\")\n",
    "while True:\n",
    "    ret, frame = cap.read()\n",
    "    if not ret:\n",
    "        break\n",
    "\n",
    "    # Convert to RGB for MediaPipe\n",
    "    rgb_frame = cv2.cvtColor(frame, cv2.COLOR_BGR2RGB)\n",
    "    mp_image = mp.Image(image_format=mp.ImageFormat.SRGB, data=rgb_frame)\n",
    "\n",
    "    # Run detection\n",
    "    detection_result = detector.detect(mp_image)\n",
    "\n",
    "    # Annotate frame\n",
    "    annotated_frame = visualize(frame.copy(), detection_result)\n",
    "\n",
    "    # Display\n",
    "    cv2.imshow('MediaPipe EfficientDet - Real-Time Detection', annotated_frame)\n",
    "\n",
    "    # Exit on ESC\n",
    "    if cv2.waitKey(1) & 0xFF == ord('q'):\n",
    "        break\n",
    "\n",
    "cap.release()\n",
    "cv2.destroyAllWindows()\n"
   ]
  },
  {
   "cell_type": "code",
   "execution_count": null,
   "id": "f63c2428-64f8-472d-8b06-45f940540f49",
   "metadata": {},
   "outputs": [],
   "source": []
  },
  {
   "cell_type": "code",
   "execution_count": 16,
   "id": "1b16e0a1-101e-4e3a-877a-2565f5bec60f",
   "metadata": {},
   "outputs": [],
   "source": [
    "cap=cv2.VideoCapture(0)\n",
    "if not cap.isOpened():\n",
    "    print(\"error\")\n",
    "    exit()\n",
    "\n",
    "while True:\n",
    "    ret,frame=cap.read()\n",
    "    if not ret:\n",
    "        print(\"error falied to capture\")\n",
    "\n",
    "    #media pipe cv tasks\n",
    "\n",
    "    #Object detecion\n",
    "    \n",
    "\n",
    "    #face_detection\n",
    "    detect_faces(frame)\n",
    "\n",
    "    #face_mesh_landmarks\n",
    "    \n",
    "        \n",
    "    cv2.imshow('real-time video', frame)\n",
    "    if cv2.waitKey(1) & 0xFF==ord('q'):\n",
    "      break\n",
    "\n",
    "cap.release()\n",
    "cv2.destroyAllWindows()"
   ]
  },
  {
   "cell_type": "code",
   "execution_count": null,
   "id": "96202ec5-065d-4336-ab33-668fafa3d044",
   "metadata": {},
   "outputs": [],
   "source": []
  },
  {
   "cell_type": "code",
   "execution_count": null,
   "id": "4be40a43-5f57-47b5-a442-832c8b65b83f",
   "metadata": {},
   "outputs": [],
   "source": []
  },
  {
   "cell_type": "markdown",
   "id": "4c333465-3f0f-405d-a260-bdbea4a53d00",
   "metadata": {},
   "source": [
    "# Face Detection using MediaPipe\n",
    "Has models\n",
    "1. Blazeface (short range  & long range)\n",
    "2. BlazeFace Sparse\n",
    "\n",
    "\n",
    "using short range for now"
   ]
  },
  {
   "cell_type": "markdown",
   "id": "480e94a4-3b00-4fd6-9dea-502c2e3d0c2a",
   "metadata": {},
   "source": [
    "short range works on Single Shot Detector (SSD) convolutional network technique https://arxiv.org/abs/1512.02325"
   ]
  },
  {
   "cell_type": "code",
   "execution_count": 14,
   "id": "52728fd2-a20c-4ec5-aa10-c61897a939c8",
   "metadata": {},
   "outputs": [],
   "source": [
    "# model initialisation\n",
    "\n",
    "mp_face_detection = mp.solutions.face_detection\n",
    "mp_drawing = mp.solutions.drawing_utils\n",
    "face_detection = mp_face_detection.FaceDetection(model_selection=0, min_detection_confidence=0.5)\n",
    "\n",
    "def detect_faces(frame):\n",
    "    frame_rgb=cv2.cvtColor(frame, cv2.COLOR_BGR2RGB)\n",
    "    results=face_detection.process(frame_rgb)\n",
    "\n",
    "    #drae detections\n",
    "    if results.detections:\n",
    "        for detection in results.detections:\n",
    "            mp_drawing.draw_detection(frame,detection)"
   ]
  },
  {
   "cell_type": "code",
   "execution_count": null,
   "id": "faebbea9-9ff7-4759-a5f5-21be7835bd7b",
   "metadata": {},
   "outputs": [],
   "source": []
  },
  {
   "cell_type": "code",
   "execution_count": null,
   "id": "1088a11f-3994-4618-9ac4-2cd981ff8b14",
   "metadata": {},
   "outputs": [],
   "source": []
  },
  {
   "cell_type": "code",
   "execution_count": null,
   "id": "9c524b08-8538-432c-8b82-70bbb7e26da8",
   "metadata": {},
   "outputs": [],
   "source": [
    "\n",
    "face_mesh\n",
    "cap=cv2.VideoCapture(0)\n",
    "if not cap.isOpened():\n",
    "    print(\"error\")\n",
    "    exit()\n",
    "#initialize the model\n",
    "\n",
    "mp_drawing = mp.solutions.drawing_utils\n",
    "mp_face_mesh = mp.solutions.face_mesh\n",
    "face_mesh = mp_face_mesh.FaceMesh(\n",
    "    static_image_mode=False,\n",
    "    max_num_faces=1,\n",
    "    refine_landmarks=True,\n",
    "    min_detection_confidence=0.5,\n",
    "    min_tracking_confidence=0.5\n",
    ")\n",
    "\n",
    "\n",
    "drawing_spec = mp_drawing.DrawingSpec(thickness=1, circle_radius=1)\n",
    "\n",
    "while True:\n",
    "    ret,frame=cap.read()\n",
    "    if not ret:\n",
    "        print(\"error falied to capture\")\n",
    "    frame_rgb=cv2.cvtColor(frame, cv2.COLOR_BGR2RGB)\n",
    "    results=face_mesh.process(frame_rgb)\n",
    "\n",
    "    #drae detections\n",
    "    if results.multi_face_landmarks:\n",
    "        for face_landmarks in results.multi_face_landmarks:\n",
    "            mp_drawing.draw_landmarks(\n",
    "                image=frame,\n",
    "                landmark_list=face_landmarks,\n",
    "                connections=mp_face_mesh.FACEMESH_TESSELATION,\n",
    "                landmark_drawing_spec=drawing_spec,\n",
    "                connection_drawing_spec=drawing_spec\n",
    "            )            \n",
    "        \n",
    "    cv2.imshow('real-time video', frame)\n",
    "    if cv2.waitKey(1) & 0xFF==ord('q'):\n",
    "      break\n",
    "\n",
    "cap.release()\n",
    "cv2.destroyAllWindows()"
   ]
  }
 ],
 "metadata": {
  "kernelspec": {
   "display_name": "Python [conda env:base] *",
   "language": "python",
   "name": "conda-base-py"
  },
  "language_info": {
   "codemirror_mode": {
    "name": "ipython",
    "version": 3
   },
   "file_extension": ".py",
   "mimetype": "text/x-python",
   "name": "python",
   "nbconvert_exporter": "python",
   "pygments_lexer": "ipython3",
   "version": "3.12.3"
  }
 },
 "nbformat": 4,
 "nbformat_minor": 5
}
