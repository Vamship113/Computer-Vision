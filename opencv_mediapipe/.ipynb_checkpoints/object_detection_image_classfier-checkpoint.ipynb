{
 "cells": [
  {
   "cell_type": "code",
   "execution_count": 1,
   "id": "1443337b-9da8-4453-ad45-db872b8521d7",
   "metadata": {},
   "outputs": [],
   "source": [
    "import cv2\n",
    "import numpy as np\n",
    "import mediapipe as mp\n",
    "from mediapipe.tasks import python\n",
    "from mediapipe.tasks.python import vision"
   ]
  },
  {
   "cell_type": "markdown",
   "id": "ea73326e-11fa-421e-b5c3-2f5329a80cac",
   "metadata": {},
   "source": [
    "Object detection using efficientnet_lite0 which "
   ]
  },
  {
   "cell_type": "code",
   "execution_count": 3,
   "id": "f1b4582a-2ae2-435d-a3fb-1b9cb96d9b56",
   "metadata": {},
   "outputs": [
    {
     "name": "stdout",
     "output_type": "stream",
     "text": [
      "Press 'q' to exit.\n"
     ]
    }
   ],
   "source": [
    "MODEL_PATH = 'Models/efficientdet_lite0.tflite'  \n",
    "\n",
    "# visulisation function source https://github.com/google-ai-edge/mediapipe-samples/blob/main/examples/object_detection/python/object_detector.ipynb\n",
    "MARGIN = 10\n",
    "ROW_SIZE = 10\n",
    "FONT_SIZE = 1\n",
    "FONT_THICKNESS = 1\n",
    "TEXT_COLOR = (0, 255, 0)  # Green\n",
    "\n",
    "def visualize(image, detection_result):\n",
    "    for detection in detection_result.detections:\n",
    "        bbox = detection.bounding_box\n",
    "        start_point = int(bbox.origin_x), int(bbox.origin_y)\n",
    "        end_point = int(bbox.origin_x + bbox.width), int(bbox.origin_y + bbox.height)\n",
    "        cv2.rectangle(image, start_point, end_point, TEXT_COLOR, 2)\n",
    "        \n",
    "        category = detection.categories[0]\n",
    "        category_name = category.category_name\n",
    "        probability = round(category.score, 2)\n",
    "        result_text = f'{category_name} ({probability})'\n",
    "        text_location = (start_point[0], start_point[1] - 10)\n",
    "        cv2.putText(image, result_text, text_location, cv2.FONT_HERSHEY_SIMPLEX,\n",
    "                    FONT_SIZE, TEXT_COLOR, FONT_THICKNESS)\n",
    "    return image\n",
    "\n",
    "# === Initialize MediaPipe Object Detector ===\n",
    "base_options = python.BaseOptions(model_asset_path=MODEL_PATH)\n",
    "options = vision.ObjectDetectorOptions(\n",
    "    base_options=base_options,\n",
    "    score_threshold=0.5\n",
    ")\n",
    "detector = vision.ObjectDetector.create_from_options(options)\n",
    "\n",
    "# === Start Video Stream ===\n",
    "cap = cv2.VideoCapture(0)\n",
    "if not cap.isOpened():\n",
    "    print(\"Error: Could not open webcam.\")\n",
    "    exit()\n",
    "\n",
    "print(\"Press 'q' to exit.\")\n",
    "while True:\n",
    "    ret, frame = cap.read()\n",
    "    if not ret:\n",
    "        break\n",
    "\n",
    "    # Convert to RGB for MediaPipe\n",
    "    rgb_frame = cv2.cvtColor(frame, cv2.COLOR_BGR2RGB)\n",
    "    mp_image = mp.Image(image_format=mp.ImageFormat.SRGB, data=rgb_frame)\n",
    "\n",
    "    # Run detection\n",
    "    detection_result = detector.detect(mp_image)\n",
    "\n",
    "    # Annotate frame\n",
    "    annotated_frame = visualize(frame.copy(), detection_result)\n",
    "\n",
    "    # Display\n",
    "    cv2.imshow('MediaPipe EfficientDet - Real-Time Detection', annotated_frame)\n",
    "\n",
    "    # Exit on ESC\n",
    "    if cv2.waitKey(1) & 0xFF == ord('q'):\n",
    "        break\n",
    "\n",
    "cap.release()\n",
    "cv2.destroyAllWindows()\n"
   ]
  },
  {
   "cell_type": "code",
   "execution_count": null,
   "id": "f63c2428-64f8-472d-8b06-45f940540f49",
   "metadata": {},
   "outputs": [],
   "source": []
  },
  {
   "cell_type": "code",
   "execution_count": 5,
   "id": "507f808f-896e-40ad-a056-6e7db1b63a41",
   "metadata": {},
   "outputs": [],
   "source": []
  },
  {
   "cell_type": "code",
   "execution_count": null,
   "id": "99ab8029-dcc5-46e0-8fbb-04f42616b027",
   "metadata": {},
   "outputs": [],
   "source": []
  }
 ],
 "metadata": {
  "kernelspec": {
   "display_name": "Python [conda env:base] *",
   "language": "python",
   "name": "conda-base-py"
  },
  "language_info": {
   "codemirror_mode": {
    "name": "ipython",
    "version": 3
   },
   "file_extension": ".py",
   "mimetype": "text/x-python",
   "name": "python",
   "nbconvert_exporter": "python",
   "pygments_lexer": "ipython3",
   "version": "3.12.3"
  }
 },
 "nbformat": 4,
 "nbformat_minor": 5
}
