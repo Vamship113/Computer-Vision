{
 "cells": [
  {
   "cell_type": "code",
   "execution_count": 1,
   "id": "1443337b-9da8-4453-ad45-db872b8521d7",
   "metadata": {},
   "outputs": [],
   "source": [
    "import cv2"
   ]
  },
  {
   "cell_type": "code",
   "execution_count": 35,
   "id": "5a24a6ef-f841-4933-b7c7-83593987b44d",
   "metadata": {},
   "outputs": [],
   "source": [
    "import mediapipe as mp"
   ]
  },
  {
   "cell_type": "code",
   "execution_count": null,
   "id": "ecc00f91-d49d-4ea3-9ba8-c7f571ecbdca",
   "metadata": {},
   "outputs": [],
   "source": [
    "cap=cv2.VideoCapture(0)\n",
    "if not cap.isOpened():\n",
    "    print(\"error\")\n",
    "    exit()\n",
    "\n"
   ]
  },
  {
   "cell_type": "markdown",
   "id": "87aca1e3-772c-4581-9782-13463b3986e6",
   "metadata": {},
   "source": [
    "# Face Detection using MediaPipe\n",
    "Has models\n",
    "1. Blazeface (short range  & long range)\n",
    "2. BlazeFace Sparse\n",
    "\n",
    "\n",
    "using short range for now"
   ]
  },
  {
   "cell_type": "markdown",
   "id": "52462960-e326-41e3-b8f1-c33d610f5113",
   "metadata": {},
   "source": [
    "short range works on Single Shot Detector (SSD) convolutional network technique https://arxiv.org/abs/1512.02325"
   ]
  },
  {
   "cell_type": "code",
   "execution_count": 54,
   "id": "1b16e0a1-101e-4e3a-877a-2565f5bec60f",
   "metadata": {},
   "outputs": [],
   "source": [
    "cap=cv2.VideoCapture(0)\n",
    "if not cap.isOpened():\n",
    "    print(\"error\")\n",
    "    exit()\n",
    "#initialize the model\n",
    "\n",
    "mp_face_detection = mp.solutions.face_detection\n",
    "mp_drawing = mp.solutions.drawing_utils\n",
    "face_detection = mp_face_detection.FaceDetection(model_selection=1, min_detection_confidence=0.5)\n",
    "\n",
    "while True:\n",
    "    ret,frame=cap.read()\n",
    "    if not ret:\n",
    "        print(\"error falied to capture\")\n",
    "    frame_rgb=cv2.cvtColor(frame, cv2.COLOR_BGR2RGB)\n",
    "    results=face_detection.process(frame_rgb)\n",
    "\n",
    "    #drae detections\n",
    "    if results.detections:\n",
    "        for detection in results.detections:\n",
    "            mp_drawing.draw_detection(frame,detection)\n",
    "        \n",
    "    cv2.imshow('real-time video', frame)\n",
    "    if cv2.waitKey(1) & 0xFF==ord('q'):\n",
    "      break\n",
    "\n",
    "cap.release()\n",
    "cv2.destroyAllWindows()"
   ]
  },
  {
   "cell_type": "markdown",
   "id": "4f52e014-71cc-48e6-8fd0-ad66da7648c5",
   "metadata": {},
   "source": [
    "for more precision for detecting emotions we can use face mesh to detect 468 land marks"
   ]
  },
  {
   "cell_type": "code",
   "execution_count": 62,
   "id": "35e7dd45-5d4c-46f6-953c-7d1ce12ffab6",
   "metadata": {},
   "outputs": [],
   "source": [
    "cap=cv2.VideoCapture(0)\n",
    "if not cap.isOpened():\n",
    "    print(\"error\")\n",
    "    exit()\n",
    "#initialize the model\n",
    "\n",
    "mp_drawing = mp.solutions.drawing_utils\n",
    "mp_face_mesh = mp.solutions.face_mesh\n",
    "face_mesh = mp_face_mesh.FaceMesh(\n",
    "    static_image_mode=False,\n",
    "    max_num_faces=1,\n",
    "    refine_landmarks=True,\n",
    "    min_detection_confidence=0.5,\n",
    "    min_tracking_confidence=0.5\n",
    ")\n",
    "\n",
    "\n",
    "drawing_spec = mp_drawing.DrawingSpec(thickness=1, circle_radius=1)\n",
    "\n",
    "while True:\n",
    "    ret,frame=cap.read()\n",
    "    if not ret:\n",
    "        print(\"error falied to capture\")\n",
    "    frame_rgb=cv2.cvtColor(frame, cv2.COLOR_BGR2RGB)\n",
    "    results=face_mesh.process(frame_rgb)\n",
    "\n",
    "    #drae detections\n",
    "    if results.multi_face_landmarks:\n",
    "        for face_landmarks in results.multi_face_landmarks:\n",
    "            mp_drawing.draw_landmarks(\n",
    "                image=frame,\n",
    "                landmark_list=face_landmarks,\n",
    "                connections=mp_face_mesh.FACEMESH_TESSELATION,\n",
    "                landmark_drawing_spec=drawing_spec,\n",
    "                connection_drawing_spec=drawing_spec\n",
    "            )            \n",
    "        \n",
    "    cv2.imshow('real-time video', frame)\n",
    "    if cv2.waitKey(1) & 0xFF==ord('q'):\n",
    "      break\n",
    "\n",
    "cap.release()\n",
    "cv2.destroyAllWindows()"
   ]
  },
  {
   "cell_type": "code",
   "execution_count": null,
   "id": "062634fe-4819-4ed1-a484-5847f95f1e25",
   "metadata": {},
   "outputs": [],
   "source": []
  },
  {
   "cell_type": "code",
   "execution_count": null,
   "id": "52728fd2-a20c-4ec5-aa10-c61897a939c8",
   "metadata": {},
   "outputs": [],
   "source": []
  }
 ],
 "metadata": {
  "kernelspec": {
   "display_name": "Python [conda env:base] *",
   "language": "python",
   "name": "conda-base-py"
  },
  "language_info": {
   "codemirror_mode": {
    "name": "ipython",
    "version": 3
   },
   "file_extension": ".py",
   "mimetype": "text/x-python",
   "name": "python",
   "nbconvert_exporter": "python",
   "pygments_lexer": "ipython3",
   "version": "3.12.3"
  }
 },
 "nbformat": 4,
 "nbformat_minor": 5
}
